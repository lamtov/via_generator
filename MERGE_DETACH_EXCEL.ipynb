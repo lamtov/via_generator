{
 "cells": [
  {
   "cell_type": "code",
   "execution_count": null,
   "metadata": {},
   "outputs": [],
   "source": [
    "import requests\n",
    "from bs4 import BeautifulSoup\n",
    "import pandas as pd\n",
    "import numpy as np\n",
    "import re\n",
    "import sys\n",
    "\n",
    "def detach_excel():\n",
    "    df_data_loc_split = pd.read_excel('new_dataset/data_loc/new_data_loc.xlsx',\n",
    "                                      names=['ticker', 'datetime', 'gia_c', 'ma50', 'khoiluong', 'vol21', 'max6t',\n",
    "                                             'min6t'])\n",
    "    len_all = df_data_loc_split.shape[0]\n",
    "    len_one_file = int(len_all / 8)\n",
    "    for i in range(0, 8):\n",
    "        df_data_loc_split.iloc[i * len_one_file:(i + 1) * len_one_file].to_excel(\n",
    "            'new_dataset/data_loc/new_data_loc' + str(i) + '.xlsx', index=False)\n",
    "def merge_excel():\n",
    "    df = pd.DataFrame()\n",
    "    for i in range(0, 8):\n",
    "        df_out=pd.read_excel('output_loc_'+str(i)+'.xlsx',index=False)\n",
    "        df=df.append(df_out, ignore_index=True)\n",
    "    # df.sort_values(by=['date_time'], inplace=True, ascending=False)\n",
    "    df.to_excel('total_output.xlsx', index=False)\n",
    "merge_excel()"
   ]
  }
 ],
 "metadata": {
  "kernelspec": {
   "display_name": "Python 3",
   "language": "python",
   "name": "python3"
  },
  "language_info": {
   "codemirror_mode": {
    "name": "ipython",
    "version": 3
   },
   "file_extension": ".py",
   "mimetype": "text/x-python",
   "name": "python",
   "nbconvert_exporter": "python",
   "pygments_lexer": "ipython3",
   "version": "3.8.3"
  }
 },
 "nbformat": 4,
 "nbformat_minor": 4
}
